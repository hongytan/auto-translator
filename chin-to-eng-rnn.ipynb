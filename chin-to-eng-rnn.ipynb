{
 "cells": [
  {
   "cell_type": "code",
   "execution_count": 18,
   "id": "86f9938f",
   "metadata": {},
   "outputs": [],
   "source": [
    "# Preprocess data\n",
    "with open('/Users/hongtan/Desktop/auto-translator/cmn-eng/cmn.txt', 'r') as f:\n",
    "    translations = []\n",
    "    lines = f.readlines()\n",
    "    for line in lines:\n",
    "        translations.append(line.split('\\t')[:2])"
   ]
  },
  {
   "cell_type": "code",
   "execution_count": 20,
   "id": "256da3a9",
   "metadata": {},
   "outputs": [
    {
     "data": {
      "text/plain": [
       "[['Hi.', '嗨。'],\n",
       " ['Hi.', '你好。'],\n",
       " ['Run.', '你用跑的。'],\n",
       " ['Stop!', '住手！'],\n",
       " ['Wait!', '等等！']]"
      ]
     },
     "execution_count": 20,
     "metadata": {},
     "output_type": "execute_result"
    }
   ],
   "source": [
    "translations[:5]"
   ]
  },
  {
   "cell_type": "code",
   "execution_count": 54,
   "id": "ffdb4e02",
   "metadata": {},
   "outputs": [
    {
     "name": "stdout",
     "output_type": "stream",
     "text": [
      "7516\n"
     ]
    }
   ],
   "source": [
    "s = set()\n",
    "for words in translations:\n",
    "    word = words[0].split()\n",
    "    for w in word:\n",
    "        w = w.lower()\n",
    "        if ord(w[-1]) < 97 or ord(w[-1]) > 122:\n",
    "            s.add(w[-1])\n",
    "            w = w.replace(w[-1],'')\n",
    "        s.add(w)\n",
    "print(len(s))"
   ]
  },
  {
   "cell_type": "code",
   "execution_count": 55,
   "id": "3d85c492",
   "metadata": {},
   "outputs": [
    {
     "data": {
      "text/plain": [
       "['label', 'tents', 'smaller', 'feature', 'lid']"
      ]
     },
     "execution_count": 55,
     "metadata": {},
     "output_type": "execute_result"
    }
   ],
   "source": [
    "words = list(s)\n",
    "words[5:10]"
   ]
  },
  {
   "cell_type": "code",
   "execution_count": 58,
   "id": "85b076da",
   "metadata": {},
   "outputs": [],
   "source": [
    "tokens = {}\n",
    "for i,x in enumerate(words):\n",
    "    tokens[x] = i"
   ]
  },
  {
   "cell_type": "code",
   "execution_count": 61,
   "id": "1a8790c5",
   "metadata": {},
   "outputs": [
    {
     "name": "stdout",
     "output_type": "stream",
     "text": [
      "Input:  This is a short sentence .\n",
      "Output: 4710 3227 2841 6417 5096 987 "
     ]
    }
   ],
   "source": [
    "s = \"This is a short sentence .\"\n",
    "print(\"Input: \", s)\n",
    "s = s.lower().split()\n",
    "print(\"Output: \", end='')\n",
    "for i in s:\n",
    "    print(tokens[i], end=' ')"
   ]
  },
  {
   "cell_type": "code",
   "execution_count": null,
   "id": "d5e6667a",
   "metadata": {},
   "outputs": [],
   "source": []
  }
 ],
 "metadata": {
  "kernelspec": {
   "display_name": "Python 3 (ipykernel)",
   "language": "python",
   "name": "python3"
  },
  "language_info": {
   "codemirror_mode": {
    "name": "ipython",
    "version": 3
   },
   "file_extension": ".py",
   "mimetype": "text/x-python",
   "name": "python",
   "nbconvert_exporter": "python",
   "pygments_lexer": "ipython3",
   "version": "3.10.0"
  }
 },
 "nbformat": 4,
 "nbformat_minor": 5
}
